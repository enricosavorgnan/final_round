{
 "cells": [
  {
   "metadata": {
    "ExecuteTime": {
     "end_time": "2024-06-02T01:11:47.787795Z",
     "start_time": "2024-06-02T01:11:42.708143Z"
    }
   },
   "cell_type": "code",
   "source": [
    "import pandas as pd\n",
    "import numpy as np\n",
    "from tensorflow.keras.models import load_model\n",
    "from tensorflow.keras.metrics import MeanSquaredError as mse"
   ],
   "id": "256bba9bb56f27f",
   "outputs": [],
   "execution_count": 1
  },
  {
   "metadata": {
    "ExecuteTime": {
     "end_time": "2024-06-02T01:33:23.292910Z",
     "start_time": "2024-06-02T01:33:23.242264Z"
    }
   },
   "cell_type": "code",
   "source": [
    "# Caricare il modello\n",
    "model = load_model('my_model.keras', custom_objects={'mse':mse}, compile=False)"
   ],
   "id": "ac1779a7e19ff629",
   "outputs": [],
   "execution_count": 79
  },
  {
   "metadata": {
    "ExecuteTime": {
     "end_time": "2024-06-02T01:32:40.325206Z",
     "start_time": "2024-06-02T01:32:40.303735Z"
    }
   },
   "cell_type": "code",
   "source": [
    "# Funzione per ottenere lo stato attuale della stanza\n",
    "def get_current_state():\n",
    "    #n_people = get_people()\n",
    "    n_people = 4\n",
    "    ext_temperature = data['ext_temperature'].tail(5).mean()\n",
    "    temperature_now = data['temperature_now'].tail(5).mean()\n",
    "    pressure_now = data['pressure_now'].tail(5).mean()\n",
    "    brightness_now = data['brightness_now'].tail(5).mean()\n",
    "    humidity_now = data['humidity_now'].tail(5).mean()\n",
    "    co2_now = data['co2_now'].tail(5).mean()\n",
    "    window1_now, window2_now, window3_now, window4_now = np.array(data.tail(1)['window1_now'])[0], np.array(data.tail(1)['window2_now'])[0], np.array(data.tail(1)['window3_now'])[0], np.array(data.tail(1)['window4_now'])[0]\n",
    "    shutter1_now, shutter2_now, shutter3_now, shutter4_now = np.array(data.tail(1)['shutter1_now'])[0], np.array(data.tail(1)['shutter2_now'])[0], np.array(data.tail(1)['shutter3_now'])[0], np.array(data.tail(1)['shutter4_now'])[0]\n",
    "    date = np.array(data.tail(1)['date'])[0]\n",
    "    time = np.array(data.tail(1)['time'])[0]\n",
    "    room_size = np.array(data.tail(1)['room_size'])[0]\n",
    "    \n",
    "    return {\n",
    "        'n_people': n_people, 'room_size': room_size, 'date': date, 'time':time, 'ext_temperature': ext_temperature,\n",
    "        'temperature_now': temperature_now, 'co2_now': co2_now, 'pressure_now': pressure_now, 'brightness_now': brightness_now, 'humidity_now': humidity_now, \n",
    "        'window1_now': window1_now, 'window2_now': window2_now, 'window3_now': window3_now, 'window4_now': window4_now,\n",
    "        'shutter1_now': shutter1_now, 'shutter2_now': shutter2_now, 'shutter3_now': shutter3_now, 'shutter4_now': shutter4_now\n",
    "    }\n",
    "\n",
    "\n",
    "# Funzione per ottenere i valori target definiti dall'utente\n",
    "def get_opt():\n",
    "    return {\n",
    "        'temperature_opt': 22, 'co2_opt': 350, 'pressure_opt': 1.20, 'brightness_opt': 4.30, 'humidity_opt': 30\n",
    "    }"
   ],
   "id": "995394d4f4291fb4",
   "outputs": [],
   "execution_count": 71
  },
  {
   "metadata": {
    "ExecuteTime": {
     "end_time": "2024-06-02T01:28:17.740545Z",
     "start_time": "2024-06-02T01:28:17.718573Z"
    }
   },
   "cell_type": "code",
   "source": [
    "# Preprocessing dei dati come nel notebook di training\n",
    "def preprocess_data(data, input_values):\n",
    "    # Normalize numerical features\n",
    "    numerical_features = data.drop(columns=['window1_tg', 'window2_tg', 'window3_tg', 'window4_tg', 'shutter1_tg', 'shutter2_tg', 'shutter3_tg', 'shutter4_tg']).select_dtypes(include=[np.number]).columns.tolist()\n",
    "    current_state_df = pd.DataFrame(data, columns=numerical_features, index=[0])\n",
    "    current_state_df[numerical_features] = (current_state_df[numerical_features] - data[numerical_features].mean()) / data[numerical_features].std()\n",
    "\n",
    "    # Convert time to minutes from midnight and extract month from date\n",
    "    current_state_df['time'] = np.array(pd.to_datetime(data['time'].tail(1), format='%H:%M:%S').dt.hour * 60 + pd.to_datetime(data['time'].tail(1), format='%H:%M:%S').dt.minute)[0]\n",
    "    current_state_df['date'] = np.array(pd.to_datetime(data['date'].tail(1)).dt.month)[0]\n",
    "    \n",
    "    new_order = ['n_people', 'room_size', 'date', 'time', 'ext_temperature', 'temperature_now', 'co2_now', 'pressure_now', 'brightness_now', 'humidity_now', 'temperature_opt', 'co2_opt', 'pressure_opt', 'brightness_opt', 'humidity_opt', 'window1_now', 'window2_now', 'window3_now', 'window4_now', 'shutter1_now', 'shutter2_now', 'shutter3_now', 'shutter4_now']\n",
    "    current_state_df = current_state_df[new_order]\n",
    "    \n",
    "    # Encode categorical features\n",
    "    categorical_features = ['date']\n",
    "    current_state_df = pd.get_dummies(current_state_df, columns=categorical_features)\n",
    "\n",
    "    return current_state_df"
   ],
   "id": "9a9708213467731f",
   "outputs": [],
   "execution_count": 50
  },
  {
   "metadata": {
    "ExecuteTime": {
     "end_time": "2024-06-02T01:33:30.322962Z",
     "start_time": "2024-06-02T01:33:30.283412Z"
    }
   },
   "cell_type": "code",
   "source": [
    "# Caricare il dataset per preprocessing\n",
    "data = pd.read_csv('final_dataset.csv')\n",
    "new_order = ['n_people',  'room_size', 'date', 'time', 'ext_temperature', 'temperature_now', 'co2_now', 'pressure_now', 'brightness_now', 'humidity_now', 'temperature_opt', 'co2_opt', 'pressure_opt', 'brightness_opt', 'humidity_opt', 'window1_now', 'window2_now', 'window3_now', 'window4_now', 'shutter1_now', 'shutter2_now', 'shutter3_now', 'shutter4_now', 'window1_tg', 'window2_tg', 'window3_tg', 'window4_tg', 'shutter1_tg', 'shutter2_tg', 'shutter3_tg', 'shutter4_tg']\n",
    "data = data[new_order]"
   ],
   "id": "e4d6bf3acbc98c0f",
   "outputs": [],
   "execution_count": 80
  },
  {
   "cell_type": "code",
   "id": "40db6dfd",
   "metadata": {
    "ExecuteTime": {
     "end_time": "2024-06-02T01:32:45.196344Z",
     "start_time": "2024-06-02T01:32:45.174749Z"
    }
   },
   "source": [
    "# Ottenere lo stato attuale preprocessato\n",
    "current_state_values = get_current_state()\n",
    "optimal_values = get_opt()\n",
    "input_values = {**current_state_values, **optimal_values}"
   ],
   "outputs": [],
   "execution_count": 72
  },
  {
   "metadata": {
    "ExecuteTime": {
     "end_time": "2024-06-02T01:33:12.785133Z",
     "start_time": "2024-06-02T01:33:12.755121Z"
    }
   },
   "cell_type": "code",
   "source": [
    "# Preprocessare i dati\n",
    "input_values_preprocessed = preprocess_data(data, input_values)\n",
    "print(input_values_preprocessed)"
   ],
   "id": "bcaa578de6ef7ef8",
   "outputs": [
    {
     "name": "stdout",
     "output_type": "stream",
     "text": [
      "   n_people  room_size  time  ext_temperature  temperature_now  co2_now  \\\n",
      "0 -1.323934        NaN   890        -0.754499         0.760505 -1.02021   \n",
      "\n",
      "   pressure_now  brightness_now  humidity_now  temperature_opt  ...  \\\n",
      "0      1.551957        -1.04254      0.427171        -0.107037  ...   \n",
      "\n",
      "   humidity_opt  window1_now  window2_now  window3_now  window4_now  \\\n",
      "0      1.300195    -0.348501    -2.112663    -0.363359    -0.378498   \n",
      "\n",
      "   shutter1_now  shutter2_now  shutter3_now  shutter4_now  date_6  \n",
      "0       0.75929      0.869412      0.898966      0.827388    True  \n",
      "\n",
      "[1 rows x 23 columns]\n"
     ]
    }
   ],
   "execution_count": 76
  },
  {
   "metadata": {
    "ExecuteTime": {
     "end_time": "2024-06-02T01:33:15.894462Z",
     "start_time": "2024-06-02T01:33:15.813867Z"
    }
   },
   "cell_type": "code",
   "source": [
    "# Fare una previsione con il modello\n",
    "prediction = model.predict(input_values_preprocessed)"
   ],
   "id": "c608891d2f74a473",
   "outputs": [
    {
     "name": "stdout",
     "output_type": "stream",
     "text": [
      "\u001B[1m1/1\u001B[0m \u001B[32m━━━━━━━━━━━━━━━━━━━━\u001B[0m\u001B[37m\u001B[0m \u001B[1m0s\u001B[0m 16ms/step\n"
     ]
    }
   ],
   "execution_count": 77
  },
  {
   "metadata": {
    "ExecuteTime": {
     "end_time": "2024-06-02T01:33:18.708945Z",
     "start_time": "2024-06-02T01:33:18.689470Z"
    }
   },
   "cell_type": "code",
   "source": "print(prediction)",
   "id": "bcc2d3bc2a6d7537",
   "outputs": [
    {
     "name": "stdout",
     "output_type": "stream",
     "text": [
      "[[-0.00610232  0.31217998  0.02215894 -0.09445719  0.29743284  0.34070414\n",
      "   0.31779224  0.247432  ]]\n"
     ]
    }
   ],
   "execution_count": 78
  },
  {
   "metadata": {
    "ExecuteTime": {
     "end_time": "2024-06-02T01:33:55.548402Z",
     "start_time": "2024-06-02T01:33:55.539276Z"
    }
   },
   "cell_type": "code",
   "source": [
    "def denormalizer(data, prediction):\n",
    "    # Denormalize the prediction\n",
    "    prediction_denormalized = prediction.copy()\n",
    "    prediction_denormalized = prediction_denormalized * data[['window1_tg', 'window2_tg', 'window3_tg', 'window4_tg', 'shutter1_tg', 'shutter2_tg', 'shutter3_tg', 'shutter4_tg']].std() + data[['window1_tg', 'window2_tg', 'window3_tg', 'window4_tg', 'shutter1_tg', 'shutter2_tg', 'shutter3_tg', 'shutter4_tg']].mean()\n",
    "    \n",
    "    return prediction_denormalized"
   ],
   "id": "c59fedd3cb6dd0da",
   "outputs": [],
   "execution_count": 81
  },
  {
   "metadata": {
    "ExecuteTime": {
     "end_time": "2024-06-02T01:33:57.639349Z",
     "start_time": "2024-06-02T01:33:57.627462Z"
    }
   },
   "cell_type": "code",
   "source": [
    "# Denormalizzare la previsione\n",
    "prediction_denormalized = denormalizer(data, prediction[0])"
   ],
   "id": "43ff45e27747c98e",
   "outputs": [],
   "execution_count": 82
  },
  {
   "metadata": {
    "ExecuteTime": {
     "end_time": "2024-06-02T01:33:58.781916Z",
     "start_time": "2024-06-02T01:33:58.765699Z"
    }
   },
   "cell_type": "code",
   "source": [
    "prediction_denormalized = np.array(prediction_denormalized)\n",
    "prediction_denormalized"
   ],
   "id": "d38db9647e7708bb",
   "outputs": [
    {
     "data": {
      "text/plain": [
       "array([0.04147424, 1.01716447, 0.06099432, 0.03733467, 0.89722966,\n",
       "       0.93903917, 0.92786573, 0.86148043])"
      ]
     },
     "execution_count": 83,
     "metadata": {},
     "output_type": "execute_result"
    }
   ],
   "execution_count": 83
  },
  {
   "metadata": {
    "ExecuteTime": {
     "end_time": "2024-06-02T01:30:00.135589Z",
     "start_time": "2024-06-02T01:30:00.118087Z"
    }
   },
   "cell_type": "code",
   "source": [
    "# Assume prediction_denormalized is already defined and has at least 8 elements\n",
    "prediction_denormalized[:4] = [int(float(1 if x >= 0.5 else 0)) for x in prediction_denormalized[:4]]\n",
    "prediction_denormalized[4:8] = [round(x, 1) for x in prediction_denormalized[4:8]]"
   ],
   "id": "a354a943bd611ba8",
   "outputs": [],
   "execution_count": 63
  },
  {
   "metadata": {
    "ExecuteTime": {
     "end_time": "2024-06-02T01:30:02.828661Z",
     "start_time": "2024-06-02T01:30:02.810481Z"
    }
   },
   "cell_type": "code",
   "source": "print(prediction_denormalized)",
   "id": "7598ff34c841fe40",
   "outputs": [
    {
     "name": "stdout",
     "output_type": "stream",
     "text": [
      "[0.  1.  0.  0.  0.9 0.9 0.9 0.9]\n"
     ]
    }
   ],
   "execution_count": 64
  },
  {
   "metadata": {
    "ExecuteTime": {
     "end_time": "2024-06-02T01:30:04.531857Z",
     "start_time": "2024-06-02T01:30:04.517880Z"
    }
   },
   "cell_type": "code",
   "source": [
    "predicted_windows = prediction_denormalized[:4].copy()\n",
    "predicted_windows"
   ],
   "id": "c56e6f29644dff80",
   "outputs": [
    {
     "data": {
      "text/plain": [
       "array([0., 1., 0., 0.])"
      ]
     },
     "execution_count": 65,
     "metadata": {},
     "output_type": "execute_result"
    }
   ],
   "execution_count": 65
  },
  {
   "cell_type": "code",
   "id": "b064c858",
   "metadata": {
    "ExecuteTime": {
     "end_time": "2024-06-02T01:30:07.741737Z",
     "start_time": "2024-06-02T01:30:07.724091Z"
    }
   },
   "source": [
    "# Simulazione per raggiungere i target\n",
    "def simulate_adjustments(input_values):\n",
    "    current_windows = input_values['window1_now'], input_values['window2_now'], input_values['window3_now'], input_values['window4_now']\n",
    "    current_shutters = input_values['shutter1_now'], input_values['shutter2_now'], input_values['shutter3_now'], input_values['shutter4_now']\n",
    "    \n",
    "    predicted_windows = prediction_denormalized[:4].copy()\n",
    "    predicted_shutters = prediction_denormalized[4:].copy()\n",
    "    \n",
    "    adjustments = {}\n",
    "    \n",
    "    \n",
    "    for i, (predicted, current) in enumerate(zip(predicted_windows, current_windows)):\n",
    "        if int(predicted) - current == 0:\n",
    "            pass\n",
    "        elif int(predicted) - current == 1:\n",
    "            adjustments[f'window{i+1}'] = \"Chiudi la finestra \" + str(i+1)\n",
    "        else:\n",
    "            adjustments[f'window{i+1}'] = \"Apri la finestra \" + str(i+1)\n",
    "    \n",
    "    for i, (predicted, current) in enumerate(zip(predicted_shutters, current_shutters)):\n",
    "        if abs(predicted-current) < 0.2:\n",
    "            pass\n",
    "        elif predicted > current:\n",
    "            adjustments[f'shutter{i+1}'] = \"Abbasso la tapparella \" + str(i+1) + \" del \" + str(int((predicted-current)*100)) + \"%\"\n",
    "        else:\n",
    "            adjustments[f'shutter{i+1}'] = \"Alzo la tapparella \" + str(i+1) + \" del \" + str(int((current-predicted)*100)) + \"%\"\n",
    "    \n",
    "    return adjustments\n"
   ],
   "outputs": [],
   "execution_count": 66
  },
  {
   "metadata": {
    "ExecuteTime": {
     "end_time": "2024-06-02T01:30:10.146427Z",
     "start_time": "2024-06-02T01:30:10.131334Z"
    }
   },
   "cell_type": "code",
   "source": [
    "# Simulare le modifiche necessarie per raggiungere i target\n",
    "adjustments = simulate_adjustments(input_values)\n",
    "print(\"Adjustments needed to reach target values:\", adjustments)"
   ],
   "id": "69742d8c1274b17c",
   "outputs": [
    {
     "name": "stdout",
     "output_type": "stream",
     "text": [
      "Adjustments needed to reach target values: {'window2': 'Chiudi la finestra 2', 'shutter4': 'Abbasso la tapparella 4 del 90%'}\n"
     ]
    }
   ],
   "execution_count": 67
  },
  {
   "metadata": {
    "ExecuteTime": {
     "end_time": "2024-06-02T01:31:33.196304Z",
     "start_time": "2024-06-02T01:31:33.185929Z"
    }
   },
   "cell_type": "code",
   "source": [
    "# Funzione per stampare le istruzioni per l'utente\n",
    "def print_instructions(adjustments):\n",
    "    instructions = []\n",
    "    for key, value in adjustments.items():\n",
    "        instructions.append(value)\n",
    "    return instructions"
   ],
   "id": "da67203713ed783d",
   "outputs": [],
   "execution_count": 68
  },
  {
   "cell_type": "code",
   "id": "e372ce08",
   "metadata": {
    "ExecuteTime": {
     "end_time": "2024-06-02T01:31:35.116825Z",
     "start_time": "2024-06-02T01:31:35.106286Z"
    }
   },
   "source": [
    "# Stampare le istruzioni\n",
    "instructions = print_instructions(adjustments)\n",
    "for instruction in instructions:\n",
    "    print(instruction)"
   ],
   "outputs": [
    {
     "name": "stdout",
     "output_type": "stream",
     "text": [
      "Chiudi la finestra 2\n",
      "Abbasso la tapparella 4 del 90%\n"
     ]
    }
   ],
   "execution_count": 69
  }
 ],
 "metadata": {
  "kernelspec": {
   "name": "python3",
   "language": "python",
   "display_name": "Python 3 (ipykernel)"
  }
 },
 "nbformat": 4,
 "nbformat_minor": 5
}
